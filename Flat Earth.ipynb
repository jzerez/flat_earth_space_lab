{
 "cells": [
  {
   "cell_type": "code",
   "execution_count": 69,
   "metadata": {},
   "outputs": [],
   "source": [
    "import numpy as np\n",
    "import matplotlib.pyplot as plt\n",
    "# from pint import UnitRegistry\n",
    "# ur = UnitRegistry()\n",
    "\n",
    "G = 6.67e-11 #* ur.meter**2 * ur.newton / ur.kilogram**2\n",
    "re_real = 6371e3\n",
    "re = 2 * re_real\n",
    "me = 5.972e24 #* ur.kilogram\n",
    "\n"
   ]
  },
  {
   "cell_type": "code",
   "execution_count": 66,
   "metadata": {},
   "outputs": [
    {
     "name": "stdout",
     "output_type": "stream",
     "text": [
      "(196364, 3)\n"
     ]
    },
    {
     "data": {
      "image/png": "[encoded data removed]",
      "text/plain": [
       "<Figure size 432x288 with 2 Axes>"
      ]
     },
     "metadata": {
      "needs_background": "light"
     },
     "output_type": "display_data"
    }
   ],
   "source": [
    "grid_size = np.array((500,500))\n",
    "\n",
    "grid = np.ones(grid_size)\n",
    "\n",
    "ms = []\n",
    "\n",
    "for i, row in enumerate(grid):\n",
    "    for j, p in enumerate(row):\n",
    "        pos = (i,j) - (grid_size - 1) / 2\n",
    "        if np.linalg.norm(pos) > grid_size[0]/2:\n",
    "            grid[i,j] = 0\n",
    "        else:\n",
    "            ms.append((pos[0], pos[1], 0))\n",
    "\n",
    "dm = me / len(ms)\n",
    "grid *= dm\n",
    "ms = np.array(ms) / (grid_size[0] / 2) * re\n",
    "print(ms.shape)\n",
    "plt.imshow(grid)\n",
    "plt.colorbar()\n",
    "plt.show()"
   ]
  },
  {
   "cell_type": "code",
   "execution_count": 93,
   "metadata": {},
   "outputs": [
    {
     "data": {
      "text/plain": [
       "array([-3.94129174e-15, -1.15823167e-18, -1.43713345e+00])"
      ]
     },
     "execution_count": 93,
     "metadata": {},
     "output_type": "execute_result"
    }
   ],
   "source": [
    "def unit(v):\n",
    "    return v / np.linalg.norm(v)\n",
    "\n",
    "def calc_grav(pos, m1, m2, ms):\n",
    "    rs = ms - pos\n",
    "    rmags = np.linalg.norm(rs, axis=1)\n",
    "    Fmags = m1 * m2 * G / (rmags**2)\n",
    "    \n",
    "    unit_rs = rs / np.expand_dims(rmags, 1)\n",
    "\n",
    "    return np.matmul(unit_rs.T, Fmags)\n",
    "\n",
    "calc_grav(np.array([0,0,re]), 1, dm, ms)\n"
   ]
  },
  {
   "cell_type": "code",
   "execution_count": 25,
   "metadata": {},
   "outputs": [
    {
     "data": {
      "text/plain": [
       "array([3.74165739, 8.77496439])"
      ]
     },
     "execution_count": 25,
     "metadata": {},
     "output_type": "execute_result"
    }
   ],
   "source": [
    "np.linalg.norm(np.array([[1,2,3], [4,5,6]]), axis=1)"
   ]
  },
  {
   "cell_type": "code",
   "execution_count": 23,
   "metadata": {},
   "outputs": [
    {
     "data": {
      "text/plain": [
       "(2, 3)"
      ]
     },
     "execution_count": 23,
     "metadata": {},
     "output_type": "execute_result"
    }
   ],
   "source": [
    "np.array([[1,2,3], [4,5,6]]).shape"
   ]
  },
  {
   "cell_type": "code",
   "execution_count": 70,
   "metadata": {},
   "outputs": [
    {
     "data": {
      "text/plain": [
       "0.0"
      ]
     },
     "execution_count": 70,
     "metadata": {},
     "output_type": "execute_result"
    }
   ],
   "source": [
    "dm * len(ms) - me"
   ]
  },
  {
   "cell_type": "code",
   "execution_count": 48,
   "metadata": {},
   "outputs": [
    {
     "data": {
      "text/plain": [
       "12745.329064000001"
      ]
     },
     "execution_count": 48,
     "metadata": {},
     "output_type": "execute_result"
    }
   ],
   "source": [
    "re"
   ]
  },
  {
   "cell_type": "code",
   "execution_count": 94,
   "metadata": {},
   "outputs": [
    {
     "data": {
      "text/plain": [
       "2.4534116968415662"
      ]
     },
     "execution_count": 94,
     "metadata": {},
     "output_type": "execute_result"
    }
   ],
   "source": [
    "G * me * 1 / (re)**2"
   ]
  },
  {
   "cell_type": "code",
   "execution_count": 88,
   "metadata": {},
   "outputs": [
    {
     "name": "stdout",
     "output_type": "stream",
     "text": [
      "(6,)\n",
      "(1, 6)\n"
     ]
    }
   ],
   "source": [
    "a = np.array([1,2,3,4,5,6])\n",
    "print(a.shape)\n",
    "\n",
    "a = np.expand_dims(a,0)\n",
    "print(a.shape)"
   ]
  },
  {
   "cell_type": "code",
   "execution_count": null,
   "metadata": {},
   "outputs": [],
   "source": []
  }
 ],
 "metadata": {
  "kernelspec": {
   "display_name": "Python 3",
   "language": "python",
   "name": "python3"
  },
  "language_info": {
   "codemirror_mode": {
    "name": "ipython",
    "version": 3
   },
   "file_extension": ".py",
   "mimetype": "text/x-python",
   "name": "python",
   "nbconvert_exporter": "python",
   "pygments_lexer": "ipython3",
   "version": "3.8.5"
  }
 },
 "nbformat": 4,
 "nbformat_minor": 4
}

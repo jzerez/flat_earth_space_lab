{
 "cells": [
  {
   "cell_type": "code",
   "execution_count": 1,
   "metadata": {},
   "outputs": [],
   "source": [
    "import numpy as np\n",
    "import matplotlib.pyplot as plt\n",
    "# from pint import UnitRegistry\n",
    "# ur = UnitRegistry()\n",
    "\n",
    "G = 6.67e-11 #* ur.meter**2 * ur.newton / ur.kilogram**2\n",
    "re_real = 3959.8 * 1.60934 #* ur.mile\n",
    "re = np.sqrt(re_real**2 * 4)\n",
    "me = 5.972e24 #* ur.kilogram\n",
    "\n"
   ]
  },
  {
   "cell_type": "code",
   "execution_count": 2,
   "metadata": {},
   "outputs": [
    {
     "name": "stdout",
     "output_type": "stream",
     "text": [
      "6.363961030678928\n",
      "5.70087712549569\n",
      "5.1478150704935\n",
      "4.743416490252569\n",
      "4.527692569068709\n",
      "4.527692569068709\n",
      "4.743416490252569\n",
      "5.1478150704935\n",
      "5.70087712549569\n",
      "6.363961030678928\n",
      "5.70087712549569\n",
      "4.949747468305833\n",
      "4.301162633521313\n",
      "3.8078865529319543\n",
      "3.5355339059327378\n",
      "3.5355339059327378\n",
      "3.8078865529319543\n",
      "4.301162633521313\n",
      "4.949747468305833\n",
      "5.70087712549569\n",
      "5.1478150704935\n",
      "4.301162633521313\n",
      "3.5355339059327378\n",
      "2.9154759474226504\n",
      "2.5495097567963922\n",
      "2.5495097567963922\n",
      "2.9154759474226504\n",
      "3.5355339059327378\n",
      "4.301162633521313\n",
      "5.1478150704935\n",
      "4.743416490252569\n",
      "3.8078865529319543\n",
      "2.9154759474226504\n",
      "2.1213203435596424\n",
      "1.5811388300841898\n",
      "1.5811388300841898\n",
      "2.1213203435596424\n",
      "2.9154759474226504\n",
      "3.8078865529319543\n",
      "4.743416490252569\n",
      "4.527692569068709\n",
      "3.5355339059327378\n",
      "2.5495097567963922\n",
      "1.5811388300841898\n",
      "0.7071067811865476\n",
      "0.7071067811865476\n",
      "1.5811388300841898\n",
      "2.5495097567963922\n",
      "3.5355339059327378\n",
      "4.527692569068709\n",
      "4.527692569068709\n",
      "3.5355339059327378\n",
      "2.5495097567963922\n",
      "1.5811388300841898\n",
      "0.7071067811865476\n",
      "0.7071067811865476\n",
      "1.5811388300841898\n",
      "2.5495097567963922\n",
      "3.5355339059327378\n",
      "4.527692569068709\n",
      "4.743416490252569\n",
      "3.8078865529319543\n",
      "2.9154759474226504\n",
      "2.1213203435596424\n",
      "1.5811388300841898\n",
      "1.5811388300841898\n",
      "2.1213203435596424\n",
      "2.9154759474226504\n",
      "3.8078865529319543\n",
      "4.743416490252569\n",
      "5.1478150704935\n",
      "4.301162633521313\n",
      "3.5355339059327378\n",
      "2.9154759474226504\n",
      "2.5495097567963922\n",
      "2.5495097567963922\n",
      "2.9154759474226504\n",
      "3.5355339059327378\n",
      "4.301162633521313\n",
      "5.1478150704935\n",
      "5.70087712549569\n",
      "4.949747468305833\n",
      "4.301162633521313\n",
      "3.8078865529319543\n",
      "3.5355339059327378\n",
      "3.5355339059327378\n",
      "3.8078865529319543\n",
      "4.301162633521313\n",
      "4.949747468305833\n",
      "5.70087712549569\n",
      "6.363961030678928\n",
      "5.70087712549569\n",
      "5.1478150704935\n",
      "4.743416490252569\n",
      "4.527692569068709\n",
      "4.527692569068709\n",
      "4.743416490252569\n",
      "5.1478150704935\n",
      "5.70087712549569\n",
      "6.363961030678928\n"
     ]
    },
    {
     "data": {
      "image/png": "[encoded data removed]",
      "text/plain": [
       "<Figure size 432x288 with 2 Axes>"
      ]
     },
     "metadata": {
      "needs_background": "light"
     },
     "output_type": "display_data"
    }
   ],
   "source": [
    "grid_size = np.array((10,10))\n",
    "grid = np.ones(grid_size)# * me / (grid_size[0] * grid_size[1])\n",
    "\n",
    "for i, row in enumerate(grid):\n",
    "    for j, p in enumerate(row):\n",
    "        pos = (i,j) - (grid_size - 1) / 2\n",
    "        print(np.linalg.norm(pos))\n",
    "#         print(pos)\n",
    "        if np.linalg.norm(pos) > grid_size[0]:\n",
    "            print('hi')\n",
    "            grid[i,j] = 0\n",
    "            \n",
    "plt.imshow(grid)\n",
    "plt.colorbar()\n",
    "plt.show()"
   ]
  },
  {
   "cell_type": "code",
   "execution_count": 10,
   "metadata": {},
   "outputs": [
    {
     "data": {
      "text/plain": [
       "array([-460, -460])"
      ]
     },
     "execution_count": 10,
     "metadata": {},
     "output_type": "execute_result"
    }
   ],
   "source": [
    " (40,40) - np.array((500,500))"
   ]
  },
  {
   "cell_type": "code",
   "execution_count": null,
   "metadata": {},
   "outputs": [],
   "source": [
    "(40-"
   ]
  }
 ],
 "metadata": {
  "kernelspec": {
   "display_name": "Python 3",
   "language": "python",
   "name": "python3"
  },
  "language_info": {
   "codemirror_mode": {
    "name": "ipython",
    "version": 3
   },
   "file_extension": ".py",
   "mimetype": "text/x-python",
   "name": "python",
   "nbconvert_exporter": "python",
   "pygments_lexer": "ipython3",
   "version": "3.8.5"
  }
 },
 "nbformat": 4,
 "nbformat_minor": 4
}
